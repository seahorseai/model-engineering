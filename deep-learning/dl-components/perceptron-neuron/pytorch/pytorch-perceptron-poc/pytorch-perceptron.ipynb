{
 "cells": [
  {
   "cell_type": "markdown",
   "id": "727458e5",
   "metadata": {},
   "source": [
    "PyTorch is a popular deep learning library that makes it easy to build neural networks and run them on CPUs and GPUs."
   ]
  },
  {
   "cell_type": "code",
   "execution_count": 9,
   "id": "2e7a6ad5",
   "metadata": {},
   "outputs": [
    {
     "name": "stdout",
     "output_type": "stream",
     "text": [
      "Requirement already satisfied: torch in ./.venv/lib/python3.13/site-packages (2.8.0)\n",
      "Requirement already satisfied: torchvision in ./.venv/lib/python3.13/site-packages (0.23.0)\n",
      "Requirement already satisfied: torchaudio in ./.venv/lib/python3.13/site-packages (2.8.0)\n",
      "Requirement already satisfied: filelock in ./.venv/lib/python3.13/site-packages (from torch) (3.19.1)\n",
      "Requirement already satisfied: typing-extensions>=4.10.0 in ./.venv/lib/python3.13/site-packages (from torch) (4.15.0)\n",
      "Requirement already satisfied: setuptools in ./.venv/lib/python3.13/site-packages (from torch) (80.9.0)\n",
      "Requirement already satisfied: sympy>=1.13.3 in ./.venv/lib/python3.13/site-packages (from torch) (1.14.0)\n",
      "Requirement already satisfied: networkx in ./.venv/lib/python3.13/site-packages (from torch) (3.5)\n",
      "Requirement already satisfied: jinja2 in ./.venv/lib/python3.13/site-packages (from torch) (3.1.6)\n",
      "Requirement already satisfied: fsspec in ./.venv/lib/python3.13/site-packages (from torch) (2025.9.0)\n",
      "Requirement already satisfied: numpy in ./.venv/lib/python3.13/site-packages (from torchvision) (2.3.3)\n",
      "Requirement already satisfied: pillow!=8.3.*,>=5.3.0 in ./.venv/lib/python3.13/site-packages (from torchvision) (11.3.0)\n",
      "Requirement already satisfied: mpmath<1.4,>=1.1.0 in ./.venv/lib/python3.13/site-packages (from sympy>=1.13.3->torch) (1.3.0)\n",
      "Requirement already satisfied: MarkupSafe>=2.0 in ./.venv/lib/python3.13/site-packages (from jinja2->torch) (3.0.2)\n",
      "Note: you may need to restart the kernel to use updated packages.\n"
     ]
    }
   ],
   "source": [
    "pip install torch torchvision torchaudio\n"
   ]
  },
  {
   "cell_type": "code",
   "execution_count": 10,
   "id": "627e3648",
   "metadata": {},
   "outputs": [
    {
     "name": "stdout",
     "output_type": "stream",
     "text": [
      "2.8.0\n",
      "CUDA Available: False\n"
     ]
    }
   ],
   "source": [
    "import torch\n",
    "print(torch.__version__)\n",
    "print(\"CUDA Available:\", torch.cuda.is_available())"
   ]
  },
  {
   "cell_type": "code",
   "execution_count": 11,
   "id": "ed68d029",
   "metadata": {},
   "outputs": [
    {
     "name": "stdout",
     "output_type": "stream",
     "text": [
      "tensor([2., 3., 4.])\n",
      "tensor([1., 2., 3.])\n",
      "tensor([[0.0314, 0.3286, 0.5163],\n",
      "        [0.3745, 0.4504, 0.9760]])\n"
     ]
    }
   ],
   "source": [
    "import torch\n",
    "\n",
    "# Create tensors\n",
    "x = torch.tensor([1, 2, 3])\n",
    "y = torch.ones(3)  # [1, 1, 1]\n",
    "\n",
    "print(x + y)       # Tensor addition\n",
    "print(x * y)       # Element-wise multiplication\n",
    "\n",
    "# Random tensor\n",
    "rand = torch.rand(2, 3)\n",
    "print(rand)"
   ]
  },
  {
   "cell_type": "markdown",
   "id": "605e30b0",
   "metadata": {},
   "source": [
    "**Automatic Differentiation (Autograd)**\n",
    "PyTorch can compute gradients automatically."
   ]
  },
  {
   "cell_type": "code",
   "execution_count": 12,
   "id": "3f3b8861",
   "metadata": {},
   "outputs": [
    {
     "name": "stdout",
     "output_type": "stream",
     "text": [
      "tensor(7.)\n"
     ]
    }
   ],
   "source": [
    "# Requires gradient tracking\n",
    "x = torch.tensor(2.0, requires_grad=True)\n",
    "y = x ** 2 + 3 * x + 1\n",
    "y.backward()  # Compute gradient\n",
    "print(x.grad) # dy/dx"
   ]
  },
  {
   "cell_type": "markdown",
   "id": "ee72c38d",
   "metadata": {},
   "source": [
    "**Building a Neural Network**\n",
    "We’ll use torch.nn to define layers."
   ]
  },
  {
   "cell_type": "code",
   "execution_count": 13,
   "id": "96dcca02",
   "metadata": {},
   "outputs": [
    {
     "name": "stdout",
     "output_type": "stream",
     "text": [
      "Net(\n",
      "  (fc1): Linear(in_features=2, out_features=4, bias=True)\n",
      "  (fc2): Linear(in_features=4, out_features=1, bias=True)\n",
      ")\n"
     ]
    }
   ],
   "source": [
    "import torch.nn as nn\n",
    "import torch.nn.functional as F\n",
    "\n",
    "class Net(nn.Module):\n",
    "    def __init__(self):\n",
    "        super(Net, self).__init__()\n",
    "        self.fc1 = nn.Linear(2, 4)  # Input=2, Hidden=4\n",
    "        self.fc2 = nn.Linear(4, 1)  # Output=1\n",
    "\n",
    "    def forward(self, x):\n",
    "        x = F.relu(self.fc1(x))\n",
    "        x = self.fc2(x)\n",
    "        return x\n",
    "\n",
    "net = Net()\n",
    "print(net)"
   ]
  },
  {
   "cell_type": "markdown",
   "id": "e372ecc7",
   "metadata": {},
   "source": []
  }
 ],
 "metadata": {
  "kernelspec": {
   "display_name": ".venv",
   "language": "python",
   "name": "python3"
  },
  "language_info": {
   "codemirror_mode": {
    "name": "ipython",
    "version": 3
   },
   "file_extension": ".py",
   "mimetype": "text/x-python",
   "name": "python",
   "nbconvert_exporter": "python",
   "pygments_lexer": "ipython3",
   "version": "3.13.7"
  }
 },
 "nbformat": 4,
 "nbformat_minor": 5
}
